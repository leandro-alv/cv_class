{
 "cells": [
  {
   "cell_type": "markdown",
   "metadata": {},
   "source": [
    "# Parte 1 -\n",
    "\n",
    "## Calculando a média do erro quadrado de cada imagem com a original"
   ]
  },
  {
   "cell_type": "code",
   "execution_count": 62,
   "metadata": {
    "scrolled": true
   },
   "outputs": [
    {
     "name": "stdout",
     "output_type": "stream",
     "text": [
      "JPEG 10% quality\n",
      "MSE:  40.228544871\n",
      "\n",
      "JPEG 50% quality\n",
      "MSE:  8.64175796509\n",
      "\n",
      "JPEG 90% quality\n",
      "MSE:  3.39178466797\n",
      "\n",
      "TIFF LZW\n",
      "MSE:  0.0\n"
     ]
    }
   ],
   "source": [
    "%matplotlib inline\n",
    "\n",
    "import cv2\n",
    "import matplotlib as mpl\n",
    "import matplotlib.pyplot as plt\n",
    "import numpy as np\n",
    "\n",
    "img = cv2.imread(\"VisaoTrab1.tiff\")\n",
    "\n",
    "cv2.imwrite(\"VisaoTrab1_jpeg10.jpeg\", img, [cv2.IMWRITE_JPEG_QUALITY, 10])\n",
    "img_jpeg10 = cv2.imread(\"VisaoTrab1_jpeg10.jpeg\")\n",
    "cv2.imwrite(\"VisaoTrab1_jpeg50.jpeg\", img, [cv2.IMWRITE_JPEG_QUALITY, 50])\n",
    "img_jpeg50 = cv2.imread(\"VisaoTrab1_jpeg50.jpeg\")\n",
    "cv2.imwrite(\"VisaoTrab1_jpeg90.jpeg\", img, [cv2.IMWRITE_JPEG_QUALITY, 90])\n",
    "img_jpeg90 = cv2.imread(\"VisaoTrab1_jpeg90.jpeg\")\n",
    "cv2.imwrite(\"VisaoTrab1_tiff.tiff\", img)\n",
    "img_tiff = cv2.imread(\"VisaoTrab1_tiff.tiff\")\n",
    "\n",
    "def MSE(original_img, new_img):\n",
    "    img_error = np.sum((original_img - new_img) ** 2)\n",
    "    img_error /= float(original_img.size)\n",
    "    return img_error\n",
    "\n",
    "img_jpeg10_error = MSE(img, img_jpeg10)\n",
    "img_jpeg50_error = MSE(img, img_jpeg50)\n",
    "img_jpeg90_error = MSE(img, img_jpeg90)\n",
    "img_tiff_error = MSE(img, img_tiff)\n",
    "\n",
    "print \"JPEG 10% quality\"\n",
    "print \"MSE: \", img_jpeg10_error\n",
    "print \"\\nJPEG 50% quality\"\n",
    "print \"MSE: \", img_jpeg50_error\n",
    "print \"\\nJPEG 90% quality\"\n",
    "print \"MSE: \", img_jpeg90_error\n",
    "print \"\\nTIFF LZW\"\n",
    "print \"MSE: \", img_tiff_error"
   ]
  },
  {
   "cell_type": "markdown",
   "metadata": {},
   "source": [
    "## Calculando a diferença do tamanho da imagem original com as novas"
   ]
  },
  {
   "cell_type": "code",
   "execution_count": 73,
   "metadata": {},
   "outputs": [
    {
     "name": "stdout",
     "output_type": "stream",
     "text": [
      "Original - JPEG 10%:  779.931 kB\n",
      "Original - JPEG 50%:  773.528 kB\n",
      "Original - JPEG 90%:  750.859 kB\n",
      "Original - TIFF LZW:  467.118 kB\n"
     ]
    }
   ],
   "source": [
    "import os\n",
    "\n",
    "original_img_size = float(os.path.getsize(\"VisaoTrab1.tiff\")) * .10**3 #kB\n",
    "jpeg10_img_size = float(os.path.getsize(\"VisaoTrab1_jpeg10.jpeg\")) * .10**3 #kB\n",
    "jpeg50_img_size = float(os.path.getsize(\"VisaoTrab1_jpeg50.jpeg\")) * .10**3 #kB\n",
    "jpeg90_img_size = float(os.path.getsize(\"VisaoTrab1_jpeg90.jpeg\")) * .10**3 #kB\n",
    "tiff_img_size = float(os.path.getsize(\"VisaoTrab1_tiff.tiff\")) * .10**3 #kB\n",
    "\n",
    "print \"Original - JPEG 10%: \", original_img_size - jpeg10_img_size , \"kB\"\n",
    "print \"Original - JPEG 50%: \", original_img_size - jpeg50_img_size , \"kB\"\n",
    "print \"Original - JPEG 90%: \", original_img_size - jpeg90_img_size , \"kB\"\n",
    "print \"Original - TIFF LZW: \", original_img_size - tiff_img_size , \"kB\""
   ]
  },
  {
   "cell_type": "markdown",
   "metadata": {},
   "source": [
    "#### Como podemos perceber, quanto maior a compressão, maior o erro e menor o tamanho da imagem em relação à original."
   ]
  },
  {
   "cell_type": "markdown",
   "metadata": {
    "collapsed": true
   },
   "source": [
    "# Parte 2 -\n",
    "\n",
    "## Realizando a correção gama na imagem"
   ]
  },
  {
   "cell_type": "code",
   "execution_count": 1,
   "metadata": {},
   "outputs": [
    {
     "data": {
      "text/plain": [
       "True"
      ]
     },
     "execution_count": 1,
     "metadata": {},
     "output_type": "execute_result"
    }
   ],
   "source": [
    "%matplotlib inline\n",
    "\n",
    "import cv2\n",
    "import matplotlib as mpl\n",
    "import matplotlib.pyplot as plt\n",
    "import numpy as np\n",
    "\n",
    "img = cv2.imread(\"VisaoTrab1.tiff\")\n",
    "\n",
    "hsv_img = cv2.cvtColor(img, cv2.COLOR_BGR2HSV)\n",
    "\n",
    "gamma = .7\n",
    "hsv_img[:,:,2] = np.uint8(np.float32(hsv_img[:,:,2] / 255.0)**gamma * 255.0)\n",
    "\n",
    "saida_rgb = cv2.cvtColor(hsv_img, cv2.COLOR_HSV2BGR)\n",
    "\n",
    "cv2.imwrite(\"VisaoTrab1_gamma.tiff\", saida_rgb)\n"
   ]
  },
  {
   "cell_type": "markdown",
   "metadata": {},
   "source": [
    "Este resultado se dá, pois, como foi dito em sala de aula, ao aplicar-se uma função $h(u) = u^\\gamma$ em cada valor de pixel, neste caso no canal v (value) da imagem HSV, que representa o canal brilho da imagem, obtemos a seguinte alteração:\n",
    "* $\\gamma > 1$, a metade clara do histograma tem o contraste estendido\n",
    "* $\\gamma < 1$, a metade escura do histograma tem o contraste estendido\n",
    "\n",
    "Assim sendo, ao aplicar-se um $\\gamma = 0.7$ no canal v da imagem, a parte escura da imagem fica mais clara."
   ]
  },
  {
   "cell_type": "code",
   "execution_count": null,
   "metadata": {
    "collapsed": true
   },
   "outputs": [],
   "source": []
  }
 ],
 "metadata": {
  "kernelspec": {
   "display_name": "Python 2",
   "language": "python",
   "name": "python2"
  },
  "language_info": {
   "codemirror_mode": {
    "name": "ipython",
    "version": 2
   },
   "file_extension": ".py",
   "mimetype": "text/x-python",
   "name": "python",
   "nbconvert_exporter": "python",
   "pygments_lexer": "ipython2",
   "version": "2.7.12"
  }
 },
 "nbformat": 4,
 "nbformat_minor": 2
}
